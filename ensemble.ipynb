{
 "cells": [
  {
   "cell_type": "code",
   "execution_count": null,
   "metadata": {},
   "outputs": [],
   "source": [
    "import torch\n",
    "import torch.nn as nn\n",
    "import torch.nn.functional as F\n",
    "import os\n",
    "import natsort\n",
    "import glob\n",
    "import itertools\n",
    "import numpy as np\n",
    "import pandas as pd\n",
    "from torchvision import models\n",
    "from PIL import Image\n",
    "import matplotlib.pyplot as plt\n",
    "import timm\n",
    "from sklearn.model_selection import train_test_split\n",
    "from efficientnet_pytorch import EfficientNet\n",
    "from sklearn.model_selection import KFold,StratifiedKFold\n",
    "\n",
    "\n",
    "import torch.optim as optim\n",
    "from torch.utils.data import Dataset,DataLoader\n",
    "\n",
    "import torchvision\n",
    "import torchvision.transforms as transforms"
   ]
  },
  {
   "cell_type": "code",
   "execution_count": null,
   "metadata": {},
   "outputs": [],
   "source": [
    "device = 'cuda' if torch.cuda.is_available() else 'cpu'\n",
    "\n",
    "torch.manual_seed(1218)\n",
    "if device =='cuda':\n",
    "    torch.cuda.manual_seed_all(1218)\n",
    "print(device)"
   ]
  },
  {
   "cell_type": "code",
   "execution_count": null,
   "metadata": {},
   "outputs": [],
   "source": [
    "device = 'cuda' if torch.cuda.is_available() else 'cpu'\n",
    "\n",
    "torch.manual_seed(1218)\n",
    "if device =='cuda':\n",
    "    torch.cuda.manual_seed_all(1218)\n",
    "print(device)"
   ]
  },
  {
   "cell_type": "code",
   "execution_count": null,
   "metadata": {},
   "outputs": [],
   "source": [
    "model_incep3=models.inception_v3(aux_logits=False,pretrained=True)\n",
    "incep_num_ftrs = model_incep3.fc.in_features\n",
    "model_incep3.fc = nn.Linear(incep_num_ftrs, num_class)\n",
    "model_incep3.to(device)\n",
    "print(model_incep3)"
   ]
  },
  {
   "cell_type": "code",
   "execution_count": null,
   "metadata": {},
   "outputs": [],
   "source": [
    "model_effi=EfficientNet.from_pretrained('efficientnet-b4')\n",
    "num_class = 7\n",
    "effi_num_ftrs = model_effi._fc.in_features\n",
    "model_effi._fc = nn.Linear(effi_num_ftrs, num_class)\n",
    "model_effi.to(device)"
   ]
  },
  {
   "cell_type": "code",
   "execution_count": null,
   "metadata": {},
   "outputs": [],
   "source": [
    "trans = transforms.Compose([\n",
    "#     transforms.RandomRotation(30),\n",
    "    transforms.CenterCrop(224),\n",
    "#     transforms.Grayscale(num_output_channels=3),\n",
    "#     transforms.RandomHorizontalFlip(),\n",
    "    transforms.ToTensor(),\n",
    "#     transforms.Resize((224)),\n",
    "    transforms.Normalize([0.485, 0.456, 0.406], [0.229, 0.224, 0.225])\n",
    "])\n",
    "\n",
    "dataset = torchvision.datasets.ImageFolder('your_path',transform=trans)"
   ]
  },
  {
   "cell_type": "code",
   "execution_count": null,
   "metadata": {},
   "outputs": [],
   "source": [
    "train_data,val_data=train_test_split(dataset, test_size=0.1)"
   ]
  },
  {
   "cell_type": "code",
   "execution_count": null,
   "metadata": {},
   "outputs": [],
   "source": [
    "train_loader = DataLoader(dataset=train_data,batch_size=32,shuffle=True)\n",
    "val_loader = DataLoader(dataset=val_data,batch_size=32,shuffle=True)"
   ]
  },
  {
   "cell_type": "code",
   "execution_count": null,
   "metadata": {},
   "outputs": [],
   "source": [
    "loss_func=torch.nn.CrossEntropyLoss()"
   ]
  },
  {
   "cell_type": "code",
   "execution_count": null,
   "metadata": {},
   "outputs": [],
   "source": [
    "epochs = 5\n",
    "model=0\n",
    "model_lst=['res50','incep3','effi']\n",
    "n_sample = 10\n",
    "\n",
    "\n",
    "for model_idx in range(3):\n",
    "    if(model_idx==0):\n",
    "        model=model_res50\n",
    "    elif (model_idx==1):\n",
    "        model=model_incep3\n",
    "    elif (model_idx==2):\n",
    "        model=model_effi\n",
    "    \n",
    "    optimizer = optim.Adam(model.parameters(),lr=0.00002)\n",
    "    lr_sche = optim.lr_scheduler.StepLR(optimizer, step_size=3, gamma=0.0001)\n",
    "    \n",
    "    for epoch in range(epochs):  # loop over the dataset multiple times\n",
    "        print(\"------- train -------\")\n",
    "        running_loss = 0.0\n",
    "        train_total = 0\n",
    "        train_correct=0\n",
    "        lr_sche.step()\n",
    "        for i, data in enumerate(train_loader):\n",
    "            # get the inputs\n",
    "            inputs, labels = data\n",
    "            inputs = inputs.to(device)\n",
    "            labels = labels.to(device)\n",
    "\n",
    "            # zero the parameter gradients\n",
    "            optimizer.zero_grad()\n",
    "\n",
    "            # forward + backward + optimize\n",
    "            outputs = model(inputs)\n",
    "            loss = loss_func(outputs, labels)\n",
    "            predict = torch.argmax(outputs, dim=1)\n",
    "            loss.backward()\n",
    "            optimizer.step() \n",
    "        \n",
    "            # print statistics\n",
    "            running_loss += loss.item()\n",
    "            train_total += labels.size(0)\n",
    "            train_correct += (predict==labels).sum()\n",
    "            \n",
    "            if i % 32 == 31:    \n",
    "                print('[%d, %5d] loss: %.3f' %\n",
    "                      (epoch + 1, i + 1, running_loss / 32))\n",
    "            \n",
    "                running_loss = 0.0\n",
    "        print(\"[epoch: {}] Accuracy : {:.2f}\".format(epoch+1,100*train_correct/train_total))\n",
    "        print()\n",
    "    \n",
    "        with torch.no_grad():\n",
    "            model.eval() # evaluation 과정에서 사용하지 않아야 하는 layer들을 알아서 off 시키도록 하는 함수\n",
    "            total=0\n",
    "            correct=0\n",
    "\n",
    "            for i, data in enumerate(val_loader):\n",
    "                inputs, labels = data\n",
    "                inputs = inputs.to(device)\n",
    "                labels = labels.to(device)\n",
    "     \n",
    "                out = model(inputs)\n",
    "                predict = torch.argmax(out, dim=1)\n",
    "            \n",
    "        \n",
    "                total += labels.size(0)\n",
    "                correct += (predict==labels).sum()\n",
    "\n",
    "\n",
    "            \n",
    "        torch.save(model.state_dict(),'model{}:{}.pth'.format(model_idx,model_lst[model_idx]))    \n",
    "        print(\"-- validation accuracy --\")\n",
    "        print(\"Accuracy : {:.2f}\".format(100*correct/total))\n",
    "        print()\n",
    "\n",
    "print('Finish')"
   ]
  },
  {
   "cell_type": "code",
   "execution_count": null,
   "metadata": {},
   "outputs": [],
   "source": [
    "class CustomDataSet(Dataset):\n",
    "\n",
    "    def __init__(self, main_dir, transform):\n",
    "        self.main_dir = main_dir\n",
    "        self.transform = transform\n",
    "\n",
    "        all_imgs = os.listdir(main_dir)\n",
    "        self.total_imgs = natsort.natsorted(all_imgs)\n",
    "\n",
    "    def __len__(self):\n",
    "        return len(self.total_imgs)\n",
    "\n",
    "    def __getitem__(self, idx):\n",
    "        \n",
    "        img_loc = os.path.join(self.main_dir, self.total_imgs[idx])\n",
    "        # img_loc = image path 정보 /shape/box/0/0.jpg\n",
    "        image = Image.open(img_loc).convert(\"RGB\")\n",
    "        tensor_image = self.transform(image)\n",
    "        # image -> tensor\n",
    "\n",
    "        return tensor_image"
   ]
  },
  {
   "cell_type": "code",
   "execution_count": null,
   "metadata": {},
   "outputs": [],
   "source": [
    "test_data = CustomDataSet('your_path', transform=trans)"
   ]
  },
  {
   "cell_type": "code",
   "execution_count": null,
   "metadata": {},
   "outputs": [],
   "source": [
    "test_set = DataLoader(dataset = test_data, batch_size = 32)"
   ]
  },
  {
   "cell_type": "code",
   "execution_count": null,
   "metadata": {},
   "outputs": [],
   "source": [
    "save_lst=[]\n",
    "model_res50.load_state_dict(torch.load('model0:res50.pth'))\n",
    "model_incep3.load_state_dict(torch.load('model1:incep3.pth'))\n",
    "model_effi.load_state_dict(torch.load('model2:effi.pth'))\n",
    "\n",
    "save_lst.append(model_res50)\n",
    "save_lst.append(model_incep3)\n",
    "save_lst.append(model_effi)\n"
   ]
  },
  {
   "cell_type": "code",
   "execution_count": null,
   "metadata": {},
   "outputs": [],
   "source": [
    "result =[]\n",
    "\n",
    "with torch.no_grad():\n",
    "    file=pd.read_csv('your_path.csv')\n",
    "    \n",
    "    for data in test_set:\n",
    "        imgs = data\n",
    "        imgs = imgs.to(device)\n",
    "        pre_sum=0\n",
    "        for i in range(3):\n",
    "            predict=save_lst[i]\n",
    "            prediction=predict(imgs)\n",
    "            pre_sum=pre_sum+prediction\n",
    "        \n",
    "        result.append(torch.argmax(pre_sum,1).tolist())\n",
    "        \n",
    "\n",
    "    result_ = list(itertools.chain.from_iterable(result))\n",
    "    prediction_np = np.array(result_)\n",
    "    print(result_)\n",
    "\n",
    "    file['value'] =result_\n",
    "    file.to_csv('result.csv', index=False)       \n"
   ]
  }
 ],
 "metadata": {
  "kernelspec": {
   "display_name": "PyTorch",
   "language": "python",
   "name": "pytorch"
  },
  "language_info": {
   "codemirror_mode": {
    "name": "ipython",
    "version": 3
   },
   "file_extension": ".py",
   "mimetype": "text/x-python",
   "name": "python",
   "nbconvert_exporter": "python",
   "pygments_lexer": "ipython3",
   "version": "3.9.5"
  }
 },
 "nbformat": 4,
 "nbformat_minor": 4
}
